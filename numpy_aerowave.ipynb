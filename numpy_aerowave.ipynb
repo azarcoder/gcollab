{
  "nbformat": 4,
  "nbformat_minor": 0,
  "metadata": {
    "colab": {
      "provenance": [],
      "authorship_tag": "ABX9TyNf8aRmt4R6o2BxHqERqWh5",
      "include_colab_link": true
    },
    "kernelspec": {
      "name": "python3",
      "display_name": "Python 3"
    },
    "language_info": {
      "name": "python"
    }
  },
  "cells": [
    {
      "cell_type": "markdown",
      "metadata": {
        "id": "view-in-github",
        "colab_type": "text"
      },
      "source": [
        "<a href=\"https://colab.research.google.com/github/azarcoder/gcollab/blob/main/numpy_aerowave.ipynb\" target=\"_parent\"><img src=\"https://colab.research.google.com/assets/colab-badge.svg\" alt=\"Open In Colab\"/></a>"
      ]
    },
    {
      "cell_type": "code",
      "execution_count": null,
      "metadata": {
        "colab": {
          "base_uri": "https://localhost:8080/"
        },
        "id": "WUPkx1QiHnUz",
        "outputId": "12efa310-e91e-4090-bf7c-ceb22549a595"
      },
      "outputs": [
        {
          "output_type": "stream",
          "name": "stdout",
          "text": [
            "[  1   2   3   4   5   6   7   8   9  10  11  12  13  14  15  16  17  18\n",
            "  19  20  21  22  23  24  25  26  27  28  29  30  31  32  33  34  35  36\n",
            "  37  38  39  40  41  42  43  44  45  46  47  48  49  50  51  52  53  54\n",
            "  55  56  57  58  59  60  61  62  63  64  65  66  67  68  69  70  71  72\n",
            "  73  74  75  76  77  78  79  80  81  82  83  84  85  86  87  88  89  90\n",
            "  91  92  93  94  95  96  97  98  99 100]\n",
            "[1 2 3]\n",
            "[[1 2 3]\n",
            " [4 7 8]\n",
            " [2 6 7]]\n",
            "int64\n",
            "(3, 3)\n",
            "9\n",
            "2\n",
            "[[0 0 0]\n",
            " [0 0 0]]\n",
            "[[1 1 1]\n",
            " [1 1 1]\n",
            " [1 1 1]]\n",
            "[0.         0.05263158 0.10526316 0.15789474 0.21052632 0.26315789\n",
            " 0.31578947 0.36842105 0.42105263 0.47368421 0.52631579 0.57894737\n",
            " 0.63157895 0.68421053 0.73684211 0.78947368 0.84210526 0.89473684\n",
            " 0.94736842 1.        ]\n"
          ]
        }
      ],
      "source": [
        "import numpy as np\n",
        "\n",
        "\n",
        "#range\n",
        "a = np.arange(1,101)\n",
        "print(a)\n",
        "\n",
        "#single\n",
        "k = np.array([1,2,3])\n",
        "print(k)\n",
        "\n",
        "#multidimentional\n",
        "k = np.array([[1,2,3], [4,7,8], [2,6,7]])\n",
        "print(k)\n",
        "\n",
        "#type\n",
        "print(k.dtype)\n",
        "\n",
        "#shape\n",
        "print(k.shape)\n",
        "\n",
        "#size\n",
        "print(k.size)\n",
        "\n",
        "#dimention\n",
        "print(k.ndim)\n",
        "\n",
        "#fill value\n",
        "z = np.zeros((2,3),dtype=int)\n",
        "print(z)\n",
        "\n",
        "#fill 1\n",
        "o = np.ones((3,3), dtype=int)\n",
        "print(o)\n",
        "\n",
        "#linespace\n",
        "l = np.linspace(0,1,20)\n",
        "print(l)"
      ]
    },
    {
      "cell_type": "code",
      "source": [
        "import numpy as np\n",
        "from numpy.random import Generator as gen\n",
        "from numpy.random import PCG64 as pcg\n",
        "\n",
        "a = np.array([1,2,3,4,5,6,7,3,7])\n",
        "\n",
        "#reshape\n",
        "r = a.reshape(3,3)\n",
        "print(r)\n",
        "\n",
        "#flatten - create new copy in memory\n",
        "f = r.flatten()\n",
        "print(f)\n",
        "\n",
        "#ravel (both as same as flatten) - not create a  copy in memory\n",
        "#just showing like a flatten but having same memory\n",
        "r = f.ravel()\n",
        "r[0] = 101\n",
        "print(r)\n",
        "print(f) #r is a ravel of f so same memory so if r changes f also chnages\n",
        "\n",
        "#generate random number\n",
        "ar = gen(pcg())\n",
        "print(ar.normal(size=(5,5))) #normal distrubution\n",
        "\n",
        "#specific values\n",
        "#seed means if we give a number, it will give same random number again otherwise give based on time\n",
        "ar = gen(pcg(seed=10))\n",
        "print(ar.integers(low = 10, high = 100, size=(5,5)))"
      ],
      "metadata": {
        "colab": {
          "base_uri": "https://localhost:8080/"
        },
        "id": "DnpIXF28JZWL",
        "outputId": "5e9cc20c-33e6-402a-a3ab-92532b30d158"
      },
      "execution_count": null,
      "outputs": [
        {
          "output_type": "stream",
          "name": "stdout",
          "text": [
            "[[1 2 3]\n",
            " [4 5 6]\n",
            " [7 3 7]]\n",
            "[1 2 3 4 5 6 7 3 7]\n",
            "[101   2   3   4   5   6   7   3   7]\n",
            "[101   2   3   4   5   6   7   3   7]\n",
            "[[ 0.6167348  -1.10809126 -1.54570546  0.27126797 -0.87291498]\n",
            " [-1.76977532  0.99993191 -0.40766078  2.04848541 -0.87789522]\n",
            " [ 0.30634869  0.17318928  0.3810028   0.61159554  0.71426954]\n",
            " [-0.37638955  0.99622247 -0.28613847  1.5632071  -2.29899615]\n",
            " [ 0.15259605  0.17748031  0.31594288 -1.04669712 -0.87193475]]\n",
            "[[79 96 33 28 81]\n",
            " [84 56 23 84 56]\n",
            " [23 22 46 72 46]\n",
            " [85 10 48 57 96]\n",
            " [31 84 16 40 77]]\n"
          ]
        }
      ]
    },
    {
      "cell_type": "code",
      "source": [
        "\n",
        "#import numpy as np\n",
        "\n",
        "a = np.array([[1,2,3],[4,5,6], [7,8,9]])\n",
        "print(a)\n",
        "\n",
        "#indexing same as python\n",
        "#negative indexing working\n",
        "#but in numpy\n",
        "print(a[0,0])\n",
        "a[1] = 7  #put all row as 7\n",
        "print(a)\n",
        "'''\n",
        "[[1 2 3]\n",
        " [7 7 7]]\n",
        "'''\n",
        "\n",
        "#slicing same as python\n",
        "print(a[0][0:2])\n",
        "\n",
        "print(a[0:2, 1:]) #rows 0, 1 and colum 1 and 2\n",
        "\n",
        "print(a[:, 1]) #all row and column 1\n",
        "\n",
        "print(a[::2, ::2]) #every 2nd row and 2nd column\n",
        "\n",
        "x = np.arange(1,21)\n",
        "print(x[2:])\n"
      ],
      "metadata": {
        "colab": {
          "base_uri": "https://localhost:8080/"
        },
        "id": "n0Faq1CrL8BM",
        "outputId": "aa7491e8-054f-45ce-c3ec-08874edaad7f"
      },
      "execution_count": null,
      "outputs": [
        {
          "output_type": "stream",
          "name": "stdout",
          "text": [
            "[[1 2 3]\n",
            " [4 5 6]\n",
            " [7 8 9]]\n",
            "1\n",
            "[[1 2 3]\n",
            " [7 7 7]\n",
            " [7 8 9]]\n",
            "[1 2]\n",
            "[[2 3]\n",
            " [7 7]]\n",
            "[2 7 8]\n",
            "[[1 3]\n",
            " [7 9]]\n",
            "[ 3  4  5  6  7  8  9 10 11 12 13 14 15 16 17 18 19 20]\n"
          ]
        }
      ]
    },
    {
      "cell_type": "code",
      "source": [
        "#brodcasting\n",
        "a = np.array([1,2,3])\n",
        "b = np.array([4,5,6])\n",
        "print(a+b)\n",
        "print(a+4) #4 means [4,4,4]\n",
        "\n",
        "m = np.array([[2],[4],[6]])\n",
        "print(a+m )\n",
        "\n",
        "#concate\n",
        "print(np.concatenate((a,b)))\n",
        "\n",
        "\n",
        "#typeconverstion\n",
        "x = np.array([0, 0, 1])\n",
        "na = x.astype(bool)\n",
        "print(na)\n",
        "\n",
        "#copy - call by value (not og)\n",
        "#view - call by reference (og)\n",
        "\n",
        "#reshape\n",
        "k = [1,2,3,4,5,6,7,8,9]\n",
        "k = np.array(k)\n",
        "print(k.reshape(3,3)) #return og\n",
        "\n",
        "#Pass -1 as the value, and NumPy will calculate this number for you.\n",
        "print(k.reshape(3,3,-1))\n",
        "\n",
        "#flatten\n",
        "print(k.reshape(-1))\n",
        "\n",
        "#loop\n",
        "for i in k:\n",
        "  print(i)\n"
      ],
      "metadata": {
        "colab": {
          "base_uri": "https://localhost:8080/"
        },
        "id": "bJBoDwTtMNAk",
        "outputId": "48695ab0-4d94-40be-ef65-fdd6b72bfb10"
      },
      "execution_count": null,
      "outputs": [
        {
          "output_type": "stream",
          "name": "stdout",
          "text": [
            "[5 7 9]\n",
            "[5 6 7]\n",
            "[[3 4 5]\n",
            " [5 6 7]\n",
            " [7 8 9]]\n",
            "[1 2 3 4 5 6]\n",
            "[False False  True]\n",
            "[[1 2 3]\n",
            " [4 5 6]\n",
            " [7 8 9]]\n",
            "[[[1]\n",
            "  [2]\n",
            "  [3]]\n",
            "\n",
            " [[4]\n",
            "  [5]\n",
            "  [6]]\n",
            "\n",
            " [[7]\n",
            "  [8]\n",
            "  [9]]]\n",
            "[1 2 3 4 5 6 7 8 9]\n",
            "1\n",
            "2\n",
            "3\n",
            "4\n",
            "5\n",
            "6\n",
            "7\n",
            "8\n",
            "9\n"
          ]
        }
      ]
    },
    {
      "cell_type": "code",
      "source": [
        "#join\n",
        "\n"
      ],
      "metadata": {
        "id": "YN4hrca-Z6zP"
      },
      "execution_count": null,
      "outputs": []
    }
  ]
}
{
  "nbformat": 4,
  "nbformat_minor": 0,
  "metadata": {
    "colab": {
      "provenance": [],
      "authorship_tag": "ABX9TyOE9SgpsYJOOnogRu8GCFFS",
      "include_colab_link": true
    },
    "kernelspec": {
      "name": "python3",
      "display_name": "Python 3"
    },
    "language_info": {
      "name": "python"
    }
  },
  "cells": [
    {
      "cell_type": "markdown",
      "metadata": {
        "id": "view-in-github",
        "colab_type": "text"
      },
      "source": [
        "<a href=\"https://colab.research.google.com/github/azarcoder/gcollab/blob/main/pandas_leetcode.ipynb\" target=\"_parent\"><img src=\"https://colab.research.google.com/assets/colab-badge.svg\" alt=\"Open In Colab\"/></a>"
      ]
    },
    {
      "cell_type": "code",
      "execution_count": null,
      "metadata": {
        "colab": {
          "base_uri": "https://localhost:8080/"
        },
        "id": "ysHMzcGcT2f7",
        "outputId": "fa6392a0-a20a-4ea3-eabd-7c4dd18713a2"
      },
      "outputs": [
        {
          "output_type": "stream",
          "name": "stdout",
          "text": [
            "   student_id  age\n",
            "0           1   15\n",
            "1           2   11\n",
            "2           3   11\n",
            "3           4   20\n",
            "(4, 2)\n"
          ]
        }
      ],
      "source": [
        "import pandas as pd\n",
        "student_data= \\\n",
        "[\n",
        "  [1, 15],\n",
        "  [2, 11],\n",
        "  [3, 11],\n",
        "  [4, 20]\n",
        "]\n",
        "df = pd.DataFrame(student_data, columns=['student_id', 'age'])\n",
        "print(df)\n",
        "\n",
        "print(df.shape)"
      ]
    },
    {
      "cell_type": "code",
      "source": [
        "data = {\n",
        "    'student_id' : [101, 53, 128, 3],\n",
        "    'name' : ['Ulysses', 'William', 'Henry', 'Henry'],\n",
        "    'age' : [13, 10, 6, 11]\n",
        "}\n",
        "\n",
        "df = pd.DataFrame(data)\n",
        "print(df.loc[df['student_id'] == 101, ['name', 'age']])"
      ],
      "metadata": {
        "colab": {
          "base_uri": "https://localhost:8080/"
        },
        "id": "toQhoKPuW_mH",
        "outputId": "82ed7a4a-4683-4563-88cb-8d75bab14d3c"
      },
      "execution_count": null,
      "outputs": [
        {
          "output_type": "stream",
          "name": "stdout",
          "text": [
            "      name  age\n",
            "0  Ulysses   13\n"
          ]
        }
      ]
    },
    {
      "cell_type": "code",
      "source": [
        "df = pd.DataFrame({\n",
        "    'Name': ['Alice', 'Bob', 'Charlie'],\n",
        "    'Age': [25, 17, 22],\n",
        "    'Salary' : [2000, 4000, 6000]\n",
        "})\n",
        "\n",
        "# Add a column\n",
        "df['Bonus'] = df['Salary'] * 2\n",
        "\n",
        "print(df)\n"
      ],
      "metadata": {
        "colab": {
          "base_uri": "https://localhost:8080/"
        },
        "id": "XO5QILSKZgIX",
        "outputId": "3358b4a0-dd71-4367-c0cf-dfd182691695"
      },
      "execution_count": null,
      "outputs": [
        {
          "output_type": "stream",
          "name": "stdout",
          "text": [
            "      Name  Age  Salary  Bonus\n",
            "0    Alice   25    2000   4000\n",
            "1      Bob   17    4000   8000\n",
            "2  Charlie   22    6000  12000\n"
          ]
        }
      ]
    },
    {
      "cell_type": "code",
      "source": [
        "#Drop Duplicate Rows\n",
        "df = pd.DataFrame({\n",
        "    'customer_id' : [1, 2, 3, 4, 5, 6],\n",
        "    'name' : ['Ella', 'David', 'Zachary', 'Alice', 'Finn', 'Violet'],\n",
        "    'email' : ['emily@example.com', 'michael@example.com', 'sarah@example.com', 'john@example.com', 'john@example.com', 'alice@example.com']\n",
        "})\n",
        "'''\n",
        "subset: The column (or list of columns) to check for duplicates.\n",
        "\n",
        "keep:\n",
        "\n",
        "'first': keeps the first occurrence (default)\n",
        "\n",
        "'last': keeps the last occurrence\n",
        "\n",
        "False: drops all duplicates\n",
        "\n",
        "inplace=True: updates the DataFrame in place.\n",
        "'''\n",
        "df.drop_duplicates(subset = 'email', keep = 'first', inplace = True)\n",
        "print(df)"
      ],
      "metadata": {
        "colab": {
          "base_uri": "https://localhost:8080/"
        },
        "id": "ch3UyqaTbQs3",
        "outputId": "6bdc09a5-de7d-4695-99cb-1f05a58e364e"
      },
      "execution_count": null,
      "outputs": [
        {
          "output_type": "stream",
          "name": "stdout",
          "text": [
            "   customer_id     name                email\n",
            "0            1     Ella    emily@example.com\n",
            "1            2    David  michael@example.com\n",
            "2            3  Zachary    sarah@example.com\n",
            "3            4    Alice     john@example.com\n",
            "5            6   Violet    alice@example.com\n"
          ]
        }
      ]
    },
    {
      "cell_type": "code",
      "source": [
        "#dropna(subset = 'column name', inplace = True)\n",
        "\n",
        "#rename column\n",
        "    # students.rename(columns = {\n",
        "    #     'id': 'student_id',\n",
        "    #     'first': 'first_name',\n",
        "    #     'last' : 'last_name',\n",
        "    #     'age': 'age_in_years'\n",
        "    # }, inplace=True)\n",
        "    # return students\n",
        "\n",
        "    #concat\n",
        "'''\n",
        "    ignore_index=True: Resets the index after concat (only for axis=0)\n",
        "\n",
        "    keys=['df1', 'df2']: Adds a hierarchical index\n",
        "\n",
        "    axis=0: row-wise (default)\n",
        "\n",
        "    axis=1: column-wise\n",
        "'''\n",
        "\n",
        "\n",
        "data1 = pd.DataFrame({\n",
        "    'student_id' : [1,2,3,4],\n",
        "    'name' : ['Mason', 'Ava', 'Taylor', 'Azar'],\n",
        "    'age' : [8, 6, 15, 17]\n",
        "})\n",
        "\n",
        "data2 = pd.DataFrame({\n",
        "    'student_id' : [5, 6],\n",
        "    'name' : ['Leo', 'Alex'],\n",
        "    'age' : [8, 9]\n",
        "})\n",
        "\n",
        "x = pd.concat([data1,data2], axis=0, ignore_index = True)\n",
        "print(x)"
      ],
      "metadata": {
        "colab": {
          "base_uri": "https://localhost:8080/"
        },
        "id": "TVfIJnktbRKO",
        "outputId": "c4fae4d1-02f8-4e7c-d61c-81df211ebbf5"
      },
      "execution_count": null,
      "outputs": [
        {
          "output_type": "stream",
          "name": "stdout",
          "text": [
            "   student_id    name  age\n",
            "0           1   Mason    8\n",
            "1           2     Ava    6\n",
            "2           3  Taylor   15\n",
            "3           4    Azar   17\n",
            "4           5     Leo    8\n",
            "5           6    Alex    9\n"
          ]
        }
      ]
    },
    {
      "cell_type": "code",
      "source": [
        "#pivot\n",
        "weather = pd.DataFrame({\n",
        "    'city': ['Jacksonville', 'Jacksonville', 'Jacksonville', 'Jacksonville', 'Jacksonville',\n",
        "             'ElPaso', 'ElPaso', 'ElPaso', 'ElPaso', 'ElPaso'],\n",
        "    'month': ['January', 'February', 'March', 'April', 'May',\n",
        "              'January', 'February', 'March', 'April', 'May'],\n",
        "    'temperature': [13, 23, 38, 5, 34, 20, 6, 26, 2, 43]\n",
        "})\n",
        "\n",
        "print(weather)\n",
        "print('-'*40)\n",
        "p = weather.pivot(index = 'month', columns = 'city', values = 'temperature')\n",
        "print(p)\n",
        "print('-'*40)\n",
        "melted = pd.melt(weather, id_vars=['month'], var_name='city', value_name='temp')\n",
        "print(melted)\n",
        "\n",
        "df = pd.DataFrame({\n",
        "    'product': ['Umbrella', 'SleepingBag'],\n",
        "    'quarter_1': [417, 800],\n",
        "    'quarter_2': [224, 936],\n",
        "    'quarter_3': [379, 93],\n",
        "    'quarter_4': [611, 875]\n",
        "})\n",
        "\n",
        "m = pd.melt(df, id_vars = ['product'], var_name = 'quarter', value_name='sales')\n",
        "print(m)"
      ],
      "metadata": {
        "colab": {
          "base_uri": "https://localhost:8080/"
        },
        "id": "GMtqUMsm4rIW",
        "outputId": "c8347a00-7681-439d-de07-08cced823476"
      },
      "execution_count": null,
      "outputs": [
        {
          "output_type": "stream",
          "name": "stdout",
          "text": [
            "           city     month  temperature\n",
            "0  Jacksonville   January           13\n",
            "1  Jacksonville  February           23\n",
            "2  Jacksonville     March           38\n",
            "3  Jacksonville     April            5\n",
            "4  Jacksonville       May           34\n",
            "5        ElPaso   January           20\n",
            "6        ElPaso  February            6\n",
            "7        ElPaso     March           26\n",
            "8        ElPaso     April            2\n",
            "9        ElPaso       May           43\n",
            "----------------------------------------\n",
            "city      ElPaso  Jacksonville\n",
            "month                         \n",
            "April          2             5\n",
            "February       6            23\n",
            "January       20            13\n",
            "March         26            38\n",
            "May           43            34\n",
            "----------------------------------------\n",
            "       month         city          temp\n",
            "0    January         city  Jacksonville\n",
            "1   February         city  Jacksonville\n",
            "2      March         city  Jacksonville\n",
            "3      April         city  Jacksonville\n",
            "4        May         city  Jacksonville\n",
            "5    January         city        ElPaso\n",
            "6   February         city        ElPaso\n",
            "7      March         city        ElPaso\n",
            "8      April         city        ElPaso\n",
            "9        May         city        ElPaso\n",
            "10   January  temperature            13\n",
            "11  February  temperature            23\n",
            "12     March  temperature            38\n",
            "13     April  temperature             5\n",
            "14       May  temperature            34\n",
            "15   January  temperature            20\n",
            "16  February  temperature             6\n",
            "17     March  temperature            26\n",
            "18     April  temperature             2\n",
            "19       May  temperature            43\n",
            "       product    quarter  sales\n",
            "0     Umbrella  quarter_1    417\n",
            "1  SleepingBag  quarter_1    800\n",
            "2     Umbrella  quarter_2    224\n",
            "3  SleepingBag  quarter_2    936\n",
            "4     Umbrella  quarter_3    379\n",
            "5  SleepingBag  quarter_3     93\n",
            "6     Umbrella  quarter_4    611\n",
            "7  SleepingBag  quarter_4    875\n"
          ]
        }
      ]
    },
    {
      "cell_type": "code",
      "source": [
        "#chaining\n",
        "df = pd.DataFrame({\n",
        "    'name': ['Tatiana', 'Khaled', 'Alex', 'Jonathan', 'Stefan', 'Tommy'],\n",
        "    'species': ['Snake', 'Giraffe', 'Leopard', 'Monkey', 'Bear', 'Panda'],\n",
        "    'age': [98, 50, 6, 45, 100, 26],\n",
        "    'weight': [464, 41, 328, 463, 50, 349]\n",
        "})\n",
        "\n",
        "print(df)\n",
        "print('-'*40)\n",
        "\n",
        "r = df[df['weight'] > 100].sort_values(by = 'weight', ascending = False)[['name']]\n",
        "print(r)"
      ],
      "metadata": {
        "colab": {
          "base_uri": "https://localhost:8080/"
        },
        "id": "MF6j5i6D_OEO",
        "outputId": "03e6493f-1bff-4237-d441-91c353df82a3"
      },
      "execution_count": null,
      "outputs": [
        {
          "output_type": "stream",
          "name": "stdout",
          "text": [
            "       name  species  age  weight\n",
            "0   Tatiana    Snake   98     464\n",
            "1    Khaled  Giraffe   50      41\n",
            "2      Alex  Leopard    6     328\n",
            "3  Jonathan   Monkey   45     463\n",
            "4    Stefan     Bear  100      50\n",
            "5     Tommy    Panda   26     349\n",
            "----------------------------------------\n",
            "       name\n",
            "0   Tatiana\n",
            "3  Jonathan\n",
            "5     Tommy\n",
            "2      Alex\n"
          ]
        }
      ]
    }
  ]
}